{
 "cells": [
  {
   "cell_type": "code",
   "execution_count": 1,
   "id": "79ce0b1c-e522-47d8-a503-f7ca83db175e",
   "metadata": {},
   "outputs": [],
   "source": [
    "# Kevin Cano Zepeda\n",
    "# definimos una clase para un perceptron clasico sign\n",
    "class perceptron:\n",
    "    # constructor de los datos, falta implementar las metricas con los datos de testeo\n",
    "    def __init__(self,x_train,y_train,x_test,y_test,weights = None):\n",
    "        # agregamos el bias a nuestros datos, esto para ajustar el plano\n",
    "        self.x_train = [x + [1] for x in x_train]\n",
    "        self.y_train = y_train\n",
    "        self.x_test = [x + [1] for x in x_test]\n",
    "        self.y_test = y_test\n",
    "        # si no se agregan pesos inicializamos en 1 todos\n",
    "        if weights != None:\n",
    "            self.weights = weights\n",
    "        else:\n",
    "            self.weights = [1 for x in range(len(self.x_train[0]))]\n",
    "\n",
    "    # definimos el producto punto del vector x con el vector de pesos\n",
    "    def producto_punto(self,x=None,w=None):\n",
    "        dot = 0\n",
    "        if x != None and w != None:\n",
    "            for i in range(len(x)):\n",
    "                dot += x[i]*w[i]\n",
    "        return dot\n",
    "    \n",
    "    # aplica la funcion sign para la prediccion lineal\n",
    "    def predecir(self,x=None):\n",
    "        if x != None:\n",
    "            if self.producto_punto(x,self.weights) < 0:\n",
    "                 return 0\n",
    "            else:\n",
    "                return 1\n",
    "        else:\n",
    "            return None\n",
    "    \n",
    "    # mide el error de la prediccion\n",
    "    def error(self,x,y):\n",
    "        return self.predecir(x)-y\n",
    "        \n",
    "    # ajusta el modelo a nuestros datos\n",
    "    def fit(self, epocas=1, ratio=0.01):\n",
    "        print(self.weights)\n",
    "        for epoca in range(epocas):\n",
    "            # separa el indice y el dato, para verificar si la prediccion es mala, calcula el peso nuevo\n",
    "            for idx, x in enumerate(self.x_train):\n",
    "                y_de_x = self.y_train[idx]  # etiqueta correcta\n",
    "                if self.predecir(x) != y_de_x:\n",
    "                    for i in range(len(x)-1):\n",
    "                        self.weights[i] = self.weights[i] - ratio * self.error(x, y_de_x) * x[i]\n",
    "                    #calcula el peso del bias\n",
    "                    self.weights[-1] = self.weights[-1] - ratio * self.error(x, y_de_x) * x[-1]\n",
    "        print(self.weights)\n"
   ]
  },
  {
   "cell_type": "code",
   "execution_count": 2,
   "id": "c3e6595d-5e4f-4594-a947-f74ced1bdfe7",
   "metadata": {},
   "outputs": [
    {
     "name": "stdout",
     "output_type": "stream",
     "text": [
      "[1, 1, 1]\n",
      "[0.40000000000000013, 0.40000000000000013, -0.4999999999999999]\n",
      "\n",
      "Predicciones de prueba:\n",
      "Entrada: [0, 0, 1], Predicción: 0, Real: 0\n",
      "Entrada: [0, 1, 1], Predicción: 0, Real: 0\n",
      "Entrada: [1, 0, 1], Predicción: 0, Real: 0\n",
      "Entrada: [1, 1, 1], Predicción: 1, Real: 1\n"
     ]
    }
   ],
   "source": [
    "# Datos del AND lógico\n",
    "x_train = [[0,0], [0,1], [1,0], [1,1]]\n",
    "y_train = [0, 0, 0, 1]\n",
    "\n",
    "# Usamos los mismos datos para prueba\n",
    "x_test = x_train\n",
    "y_test = y_train\n",
    "\n",
    "# Crear el perceptrón\n",
    "p = perceptron(x_train, y_train, x_test, y_test)\n",
    "\n",
    "# Entrenamos el perceptrón\n",
    "p.fit(epocas=100, ratio=0.1)\n",
    "\n",
    "# Probamos las predicciones\n",
    "print(\"\\nPredicciones de prueba:\")\n",
    "for x, y in zip(p.x_test, p.y_test):\n",
    "    print(f\"Entrada: {x}, Predicción: {p.predecir(x)}, Real: {y}\")\n"
   ]
  },
  {
   "cell_type": "code",
   "execution_count": 6,
   "id": "e4ea7b6c-8cec-452b-8d7e-d3dfc784d115",
   "metadata": {},
   "outputs": [
    {
     "name": "stdout",
     "output_type": "stream",
     "text": [
      "[1, 1]\n",
      "[0.19999999999999618, -0.39999999999999997]\n",
      "\n",
      "Predicciones de prueba:\n",
      "Entrada: [1, 1], Predicción: 0, Real: 1\n",
      "Entrada: [1.5, 1], Predicción: 0, Real: 0\n",
      "Entrada: [2, 1], Predicción: 0, Real: 0\n",
      "Entrada: [2.5, 1], Predicción: 1, Real: 1\n",
      "Entrada: [3, 1], Predicción: 1, Real: 1\n"
     ]
    }
   ],
   "source": [
    "\n",
    "x_train = [[1],[1.5], [2], [2.5],[3]]\n",
    "y_train = [1, 0, 0, 1,1]\n",
    "\n",
    "# Usamos los mismos datos para prueba\n",
    "x_test = x_train\n",
    "y_test = y_train\n",
    "\n",
    "# Crear el perceptrón\n",
    "p = perceptron(x_train, y_train, x_test, y_test)\n",
    "\n",
    "# Entrenamos el perceptrón\n",
    "p.fit(epocas=100, ratio=0.2)\n",
    "\n",
    "# Probamos las predicciones\n",
    "print(\"\\nPredicciones de prueba:\")\n",
    "for x, y in zip(p.x_test, p.y_test):\n",
    "    print(f\"Entrada: {x}, Predicción: {p.predecir(x)}, Real: {y}\")"
   ]
  }
 ],
 "metadata": {
  "kernelspec": {
   "display_name": "Python 3 (ipykernel)",
   "language": "python",
   "name": "python3"
  },
  "language_info": {
   "codemirror_mode": {
    "name": "ipython",
    "version": 3
   },
   "file_extension": ".py",
   "mimetype": "text/x-python",
   "name": "python",
   "nbconvert_exporter": "python",
   "pygments_lexer": "ipython3",
   "version": "3.12.3"
  }
 },
 "nbformat": 4,
 "nbformat_minor": 5
}
