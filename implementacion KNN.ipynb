{
 "cells": [
  {
   "cell_type": "code",
   "execution_count": 1,
   "id": "bce40a28-d8b0-4614-a0c2-b54ff41cd2d4",
   "metadata": {},
   "outputs": [],
   "source": [
    "# implementacion a mano de KNN\n",
    "class KNN:\n",
    "    def __init__(self,k,x_train,y_train):\n",
    "        self.k = k\n",
    "        self.x_train = x_train\n",
    "        self.y_train = y_train\n",
    "    def calcular_distancias(self,x,y):\n",
    "        suma = 0\n",
    "        for i in range(len(x)):\n",
    "            suma += (x[i]-y[i])**2\n",
    "        return suma\n",
    "        \n",
    "    def criterio(self,elemento):\n",
    "        return elemento[2]\n",
    "        \n",
    "    def predecir(self,x):\n",
    "        lista_distancias = []\n",
    "        for data in self.x_train:\n",
    "            lista_distancias.append([data,self.y_train[self.x_train.index(data)],self.calcular_distancias(x,data)])\n",
    "        # ordenamos la lista con respecto a la distancia\n",
    "        lista_distancias.sort(key=self.criterio)\n",
    "        contador_positivo = 0\n",
    "        \n",
    "        for i in range(self.k):\n",
    "            contador_positivo += lista_distancias[i][1]\n",
    "        if contador_positivo > self.k/2:\n",
    "            print(f\"el elemento pertenece a la clase 1\")\n",
    "        else:\n",
    "            print(\"el elemento pertenece a la clase 0\")\n",
    "            \n",
    "            \n",
    "        "
   ]
  },
  {
   "cell_type": "code",
   "execution_count": 2,
   "id": "d01b810a-4553-4a8f-a485-fd189a890f7e",
   "metadata": {},
   "outputs": [],
   "source": [
    "data = [[1,23,30,0],\n",
    "       [4,2,9,1],\n",
    "       [3,10,10,1],\n",
    "       [2,15,22,0]]\n",
    "x_train = [fila[:-1] for fila in data]  # todas las columnas menos la última\n",
    "y_train = [fila[-1] for fila in data]   # solo la última columna\n"
   ]
  },
  {
   "cell_type": "code",
   "execution_count": 3,
   "id": "8bb5a8c3-25c4-4a4e-a172-ab3abfd4d3f5",
   "metadata": {},
   "outputs": [
    {
     "name": "stdout",
     "output_type": "stream",
     "text": [
      "el elemento pertenece a la clase 1\n"
     ]
    }
   ],
   "source": [
    "modelo = KNN(2,x_train,y_train)\n",
    "modelo.predecir([1,10,10])"
   ]
  },
  {
   "cell_type": "code",
   "execution_count": 6,
   "id": "737335fd-80e5-42da-ab2a-a42290bc9d26",
   "metadata": {},
   "outputs": [],
   "source": [
    "import random\n",
    "\n",
    "# Generar dataset sintético grande\n",
    "# 3 features, etiqueta binaria (0 o 1)\n",
    "data = []\n",
    "for _ in range(200):\n",
    "    x1 = random.randint(0, 20)\n",
    "    x2 = random.randint(0, 20)\n",
    "    x3 = random.randint(0, 20)\n",
    "    # etiqueta depende de una regla (ejemplo: si x1 + x2 > x3, clase 1, sino 0)\n",
    "    y = 1 if (x1 + x2) > x3 else 0\n",
    "    data.append([x1, x2, x3, y])\n",
    "\n",
    "# separar en X e y\n",
    "x_train = [fila[:-1] for fila in data]\n",
    "y_train = [fila[-1] for fila in data]\n",
    "\n",
    "len(data), x_train[:5], y_train[:5]\n",
    "x_test = [\n",
    "    [2, 3, 1],   # 2+3=5  → 5 > 10? ❌ → y=0\n",
    "    [10, 5, 12],  # 10+5=15 → 15 > 12? ✅ → y=1\n",
    "    [4, 4, 8],    # 4+4=8  → 8 > 8? ❌ → y=0\n",
    "    [7, 9, 12],   # 7+9=16 → 16 > 12? ✅ → y=1\n",
    "    [1, 1, 1],    # 1+1=2  → 2 > 1? ✅ → y=1\n",
    "]\n",
    "\n",
    "y_test = [0, 1, 0, 1, 1]\n"
   ]
  },
  {
   "cell_type": "code",
   "execution_count": 7,
   "id": "d89a0530-f416-424c-b2bb-2e2b59df3b90",
   "metadata": {},
   "outputs": [
    {
     "name": "stdout",
     "output_type": "stream",
     "text": [
      "Para el caso [2, 3, 1] con etiqueta real 0\n",
      "el elemento pertenece a la clase 1\n",
      "\n",
      "\n",
      "Para el caso [10, 5, 12] con etiqueta real 1\n",
      "el elemento pertenece a la clase 0\n",
      "\n",
      "\n",
      "Para el caso [4, 4, 8] con etiqueta real 0\n",
      "el elemento pertenece a la clase 0\n",
      "\n",
      "\n",
      "Para el caso [7, 9, 12] con etiqueta real 1\n",
      "el elemento pertenece a la clase 1\n",
      "\n",
      "\n",
      "Para el caso [1, 1, 1] con etiqueta real 1\n",
      "el elemento pertenece a la clase 1\n",
      "\n",
      "\n"
     ]
    }
   ],
   "source": [
    "modelo = KNN(2,x_train,y_train)\n",
    "for x in x_test:\n",
    "    print(\"Para el caso\",x,\"con etiqueta real\",y_test[x_test.index(x)])\n",
    "    modelo.predecir(x)\n",
    "    print(\"\\n\")"
   ]
  }
 ],
 "metadata": {
  "kernelspec": {
   "display_name": "Python 3 (ipykernel)",
   "language": "python",
   "name": "python3"
  },
  "language_info": {
   "codemirror_mode": {
    "name": "ipython",
    "version": 3
   },
   "file_extension": ".py",
   "mimetype": "text/x-python",
   "name": "python",
   "nbconvert_exporter": "python",
   "pygments_lexer": "ipython3",
   "version": "3.12.3"
  }
 },
 "nbformat": 4,
 "nbformat_minor": 5
}
